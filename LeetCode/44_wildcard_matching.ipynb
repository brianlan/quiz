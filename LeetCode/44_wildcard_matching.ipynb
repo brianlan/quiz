{
 "cells": [
  {
   "cell_type": "markdown",
   "metadata": {},
   "source": [
    "## 44. 通配符匹配\n",
    "\n",
    "给定一个字符串 (s) 和一个字符模式 (p) ，实现一个支持 '?' 和 '*' 的通配符匹配。\n",
    "\n",
    "'?' 可以匹配任何单个字符。\n",
    "'*' 可以匹配任意字符串（包括空字符串）。\n",
    "两个字符串完全匹配才算匹配成功。\n",
    "\n",
    "说明:\n",
    "\n",
    "s 可能为空，且只包含从 a-z 的小写字母。\n",
    "p 可能为空，且只包含从 a-z 的小写字母，以及字符 ? 和 *。\n",
    "示例 1:\n",
    "\n",
    "输入:\n",
    "s = \"aa\"\n",
    "p = \"a\"\n",
    "输出: false\n",
    "解释: \"a\" 无法匹配 \"aa\" 整个字符串。\n",
    "示例 2:\n",
    "\n",
    "输入:\n",
    "s = \"aa\"\n",
    "p = \"*\"\n",
    "输出: true\n",
    "解释: '*' 可以匹配任意字符串。\n",
    "示例 3:\n",
    "\n",
    "输入:\n",
    "s = \"cb\"\n",
    "p = \"?a\"\n",
    "输出: false\n",
    "解释: '?' 可以匹配 'c', 但第二个 'a' 无法匹配 'b'。\n",
    "示例 4:\n",
    "\n",
    "输入:\n",
    "s = \"adceb\"\n",
    "p = \"\\*a\\*b\"\n",
    "输出: true\n",
    "解释: 第一个 '*' 可以匹配空字符串, 第二个 '*' 可以匹配字符串 \"dce\".\n",
    "示例 5:\n",
    "\n",
    "输入:\n",
    "s = \"acdcb\"\n",
    "p = \"a*c?b\"\n",
    "输出: false\n"
   ]
  },
  {
   "cell_type": "code",
   "execution_count": 14,
   "metadata": {},
   "outputs": [],
   "source": [
    "import numpy as np\n",
    "class Solution:\n",
    "    def isMatch(self, s: str, p: str) -> bool:\n",
    "        m, n = len(s), len(p)\n",
    "        opt = [[False] * (n + 1) for _ in range(m + 1)]\n",
    "        opt[0][0] = True\n",
    "        for j in range(1, n + 1):\n",
    "            if p[j - 1] == \"*\":\n",
    "                opt[0][j] = opt[0][j - 1]\n",
    "        for i in range(1, m + 1):\n",
    "            for j in range(1, n + 1):\n",
    "#                 print(i, j)\n",
    "                if p[j - 1] == \"*\":\n",
    "                    opt[i][j] = opt[i - 1][j] or opt[i][j - 1]\n",
    "                else:\n",
    "                    opt[i][j] = opt[i - 1][j - 1] and (s[i - 1] == p[j - 1] or p[j - 1] == '?')\n",
    "#         print(np.array(opt))\n",
    "        return opt[-1][-1]"
   ]
  },
  {
   "cell_type": "code",
   "execution_count": 15,
   "metadata": {},
   "outputs": [],
   "source": [
    "assert not Solution().isMatch(\"aa\", \"a\")\n",
    "assert Solution().isMatch(\"aa\", \"*\")\n",
    "assert not Solution().isMatch(\"cb\", \"?a\")\n",
    "assert Solution().isMatch(\"abceb\", \"*a*b\")\n",
    "assert not Solution().isMatch(\"acdcb\", \"a*c?b\")"
   ]
  },
  {
   "cell_type": "code",
   "execution_count": null,
   "metadata": {},
   "outputs": [],
   "source": []
  }
 ],
 "metadata": {
  "kernelspec": {
   "display_name": "Python 3",
   "language": "python",
   "name": "python3"
  },
  "language_info": {
   "codemirror_mode": {
    "name": "ipython",
    "version": 3
   },
   "file_extension": ".py",
   "mimetype": "text/x-python",
   "name": "python",
   "nbconvert_exporter": "python",
   "pygments_lexer": "ipython3",
   "version": "3.8.5"
  }
 },
 "nbformat": 4,
 "nbformat_minor": 4
}
